{
 "cells": [
  {
   "cell_type": "code",
   "execution_count": 1,
   "id": "f6d651b9-889a-49ae-b3d6-596148dabde2",
   "metadata": {},
   "outputs": [],
   "source": [
    "import json\n",
    "from pathlib import Path\n",
    "\n",
    "from cdp_backend.pipeline.transcript_model import SectionAnnotation, Transcript, TranscriptAnnotations\n",
    "\n",
    "###############################################################################\n",
    "# Parameters\n",
    "\n",
    "# Set ANNOTATION_TARGET to the transcript / metadata prefix you want to annotate\n",
    "ANNOTATION_TARGET = \"000ab33594c1\"\n",
    "\n",
    "###############################################################################\n",
    "# Globals\n",
    "\n",
    "UNANNOTATED_DATASET = Path(\"unannotated\").resolve(strict=True)\n",
    "ANNOTATED_DATASET = Path(\"annotated\").resolve()\n",
    "ANNOTATED_DATASET.mkdir(exist_ok=True)\n",
    "\n",
    "TARGET_METADATA_PATH = UNANNOTATED_DATASET / f\"{ANNOTATION_TARGET}-metadata.json\"\n",
    "with open(TARGET_METADATA_PATH, \"r\") as open_target_metadata_file:\n",
    "    TARGET_METADATA = json.load(open_target_metadata_file)\n",
    "    \n",
    "UNANNOTATED_TRANSCRIPT_PATH = UNANNOTATED_DATASET / TARGET_METADATA[\"transcript_name\"]\n",
    "with open(UNANNOTATED_TRANSCRIPT_PATH, \"r\") as open_unannotated_transcript_file:\n",
    "    UNANNOTATED_TRANSCRIPT = Transcript.from_json(open_unannotated_transcript_file.read())"
   ]
  },
  {
   "cell_type": "code",
   "execution_count": 2,
   "id": "0ff50cbe-4d2e-428a-9b7d-1606d2b5c8b2",
   "metadata": {},
   "outputs": [
    {
     "data": {
      "text/plain": [
       "[SectionTarget(index=0, name='Call To Order', description=None),\n",
       " SectionTarget(index=1, name='Approval of the Agenda', description=None),\n",
       " SectionTarget(index=2, name='Public Comment', description=None),\n",
       " SectionTarget(index=3, name='CB 120148', description='AN ORDINANCE relating to parking enforcement; amending Ordinance 126237, which adopted the 2021 Budget; transferring positions out of the Seattle Police Department; and ratifying and confirming certain prior acts.'),\n",
       " SectionTarget(index=4, name='Inf 1861', description='Community Safety Capacity Building RFP'),\n",
       " SectionTarget(index=5, name='Inf 1862', description='Seattle Police Department (SPD) Quarterly Finance and Staffing Report'),\n",
       " SectionTarget(index=6, name='Adjournment', description=None)]"
      ]
     },
     "execution_count": 2,
     "metadata": {},
     "output_type": "execute_result"
    }
   ],
   "source": [
    "from typing import List, NamedTuple, Optional\n",
    "\n",
    "class SectionTarget(NamedTuple):\n",
    "    index: int\n",
    "    name: str\n",
    "    description: Optional[str]\n",
    "\n",
    "section_targets: List[SectionTarget] = []\n",
    "for i, emi in enumerate(sorted(TARGET_METADATA[\"event_minutes_items\"], key=lambda emi: emi[\"index\"])):\n",
    "    section_targets.append(\n",
    "        SectionTarget(\n",
    "            index=i,\n",
    "            name=emi[\"minutes_item_ref\"][\"name\"],\n",
    "            description=emi[\"minutes_item_ref\"][\"description\"]\n",
    "        )\n",
    "    )\n",
    "        \n",
    "section_targets = sorted(section_targets, key=lambda t: t.index)\n",
    "section_targets"
   ]
  },
  {
   "cell_type": "code",
   "execution_count": 3,
   "id": "684e3b25-eb90-4238-8b20-e0a9d423be24",
   "metadata": {},
   "outputs": [],
   "source": [
    "# Add your annotations here\n",
    "\n",
    "UNANNOTATED_TRANSCRIPT.annotations = {}\n",
    "UNANNOTATED_TRANSCRIPT.annotations[TranscriptAnnotations.sections.name] = [\n",
    "    SectionAnnotation(\n",
    "        name=\"Call to Order\",\n",
    "        start_sentence_index=0,\n",
    "        end_sentence_index=15,\n",
    "        generator=\"Jackson Maxfield Brown\"\n",
    "    ),\n",
    "    SectionAnnotation(\n",
    "        name=\"Approval of the Agenda\",\n",
    "        start_sentence_index=16,\n",
    "        end_sentence_index=23,\n",
    "        generator=\"Jackson Maxfield Brown\",\n",
    "    ),\n",
    "    SectionAnnotation(\n",
    "        name=\"Public Comment\",\n",
    "        start_sentence_index=24,\n",
    "        end_sentence_index=548,\n",
    "        generator=\"Jackson Maxfield Brown\",\n",
    "    ),\n",
    "    SectionAnnotation(\n",
    "        name=\"CB 120148\",\n",
    "        start_sentence_index=549,\n",
    "        end_sentence_index=662,\n",
    "        generator=\"Jackson Maxfield Brown\",\n",
    "        description=\"AN ORDINANCE relating to parking enforcement; amending Ordinance 126237, which adopted the 2021 Budget; transferring positions out of the Seattle Police Department; and ratifying and confirming certain prior acts.\",\n",
    "    ),\n",
    "    SectionAnnotation(\n",
    "        name=\"Inf 1861\",\n",
    "        start_sentence_index=663,\n",
    "        end_sentence_index=876,\n",
    "        generator=\"Jackson Maxfield Brown\",\n",
    "        description=\"Community Safety Capacity Building RFP\",\n",
    "    ),\n",
    "    SectionAnnotation(\n",
    "        name=\"Inf 1862\",\n",
    "        start_sentence_index=878,\n",
    "        end_sentence_index=1795,\n",
    "        generator=\"Jackson Maxfield Brown\",\n",
    "        description=\"Seattle Police Department (SPD) Quarterly Finance and Staffing Report\",\n",
    "    ),\n",
    "    SectionAnnotation(\n",
    "        name=\"Adjournment\",\n",
    "        start_sentence_index=1796,\n",
    "        end_sentence_index=1798,\n",
    "        generator=\"Jackson Maxfield Brown\",\n",
    "    ),\n",
    "]"
   ]
  },
  {
   "cell_type": "code",
   "execution_count": 4,
   "id": "fcaa4dee-0da8-4020-bb1e-9f82d322aa22",
   "metadata": {},
   "outputs": [
    {
     "name": "stdout",
     "output_type": "stream",
     "text": [
      "Call to Order\n",
      "start -- Meeting of the public safety and human services committee will come to order.\n",
      "end   -- Thank you so much.\n",
      "--------------------------------------------------------------------------------\n",
      "Approval of the Agenda\n",
      "start -- On today's committee agenda, we will hear three items.\n",
      "end   -- [inaudible] hearing no objection, today's agenda [inaudible]. I will moderate the public comment per\n",
      "--------------------------------------------------------------------------------\n",
      "Public Comment\n",
      "start -- Each Speaker will be given--well there are 39 speakers.\n",
      "end   -- Thank you, everybody who was able to join us.\n",
      "--------------------------------------------------------------------------------\n",
      "CB 120148\n",
      "start -- Will the clerk please read the first agenda item into the record?\n",
      "end   -- Thank you so much, the bill will move forward on the August 16th meeting.\n",
      "--------------------------------------------------------------------------------\n",
      "Inf 1861\n",
      "start -- Will the clerk please read in the next item.\n",
      "end   -- So really I want to thank you again.\n",
      "--------------------------------------------------------------------------------\n",
      "Inf 1862\n",
      "start -- We'll move onto the final item on our agenda.\n",
      "end   -- Some additional information that we'll be getting after today's meeting, and I have a couple of ques\n",
      "--------------------------------------------------------------------------------\n",
      "Adjournment\n",
      "start -- If there are no additional comments from my colleagues, the next public safety and human services co\n",
      "end   -- Thank you.\n",
      "--------------------------------------------------------------------------------\n"
     ]
    }
   ],
   "source": [
    "# Sanity check sections\n",
    "for section_anno in UNANNOTATED_TRANSCRIPT.annotations[TranscriptAnnotations.sections.name]:\n",
    "    print(section_anno.name)\n",
    "    print(\"start --\", UNANNOTATED_TRANSCRIPT.sentences[section_anno.start_sentence_index].text[:100])\n",
    "    print(\"end   --\", UNANNOTATED_TRANSCRIPT.sentences[section_anno.end_sentence_index].text[:100])\n",
    "    print(\"-\" * 80)"
   ]
  },
  {
   "cell_type": "code",
   "execution_count": 5,
   "id": "69e786c5-b349-4c07-b252-692c6b94745e",
   "metadata": {},
   "outputs": [],
   "source": [
    "# Store to annotated dataset dir\n",
    "ANNOTATED_TRANSCRIPT_PATH = ANNOTATED_DATASET / TARGET_METADATA[\"transcript_name\"]\n",
    "with open(ANNOTATED_TRANSCRIPT_PATH, \"w\") as open_annotated_transcript_file:\n",
    "    open_annotated_transcript_file.write(UNANNOTATED_TRANSCRIPT.to_json())"
   ]
  }
 ],
 "metadata": {
  "kernelspec": {
   "display_name": "Python 3 (ipykernel)",
   "language": "python",
   "name": "python3"
  },
  "language_info": {
   "codemirror_mode": {
    "name": "ipython",
    "version": 3
   },
   "file_extension": ".py",
   "mimetype": "text/x-python",
   "name": "python",
   "nbconvert_exporter": "python",
   "pygments_lexer": "ipython3",
   "version": "3.9.6"
  }
 },
 "nbformat": 4,
 "nbformat_minor": 5
}
